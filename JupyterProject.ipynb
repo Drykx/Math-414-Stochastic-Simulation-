{
 "cells": [
  {
   "cell_type": "code",
   "execution_count": 422,
   "metadata": {},
   "outputs": [],
   "source": [
    "import numpy as np\n",
    "import matplotlib.pyplot as plt\n",
    "import scipy.stats as st \n",
    "import math\n",
    "import statsmodels.api as sm\n",
    "import pandas as pd"
   ]
  },
  {
   "cell_type": "markdown",
   "metadata": {},
   "source": [
    "Code is not really optimal. I don't need to generate the Brownian motion independently"
   ]
  },
  {
   "cell_type": "code",
   "execution_count": 423,
   "metadata": {},
   "outputs": [],
   "source": [
    "def Brownnian_Generator(W_0,m,T):\n",
    "    \"\"\"This function generartes a standard one dimensional brownian motion\n",
    "\n",
    "    Parameters\n",
    "    ----------\n",
    "    W_0 : float\n",
    "        Initial value of the brownian motion\n",
    "    m : int\n",
    "        time steps of the brownian motion\n",
    "    T : float\n",
    "        time horizon of the brownian motion\n",
    "\n",
    "    Returns\n",
    "    -------\n",
    "    W : np.ndarray\n",
    "        BM evaluated at time (T/m,2T/m,...,T) (m_features,) \"\"\"\n",
    "\n",
    "    if 1 > m:\n",
    "        return \"Error: m must be bigger than 1\"\n",
    "    if type(m) != int:\n",
    "        print(\"Error: m must be of type int\")\n",
    "    else:\n",
    "        W = np.zeros(m)\n",
    "        W[0] = W_0 + st.norm.rvs(0,np.sqrt(T/m))\n",
    "        for i in range(1,m):\n",
    "            W[i] = W[i-1] + st.norm.rvs(0,np.sqrt(T/m))\n",
    "        return W\n",
    "\n",
    "def GeometricBM_generator(W,S_0,sigma,r,T):\n",
    "    \"\"\"This function generates a geometric brownian motion\n",
    "\n",
    "    Parameters\n",
    "    ----------\n",
    "    W : np.ndarray\n",
    "        Brownian motion\n",
    "    S_0 : float\n",
    "        Initial value of the geometric brownian motion\n",
    "    sigma : float\n",
    "        volatility of the geometric brownian motion\n",
    "    r : float\n",
    "        interest rate of the geometric brownian motion\n",
    "    T : float\n",
    "        time horizon of the geometric brownian motion\n",
    "\n",
    "    Returns\n",
    "    -------\n",
    "    S : np.ndarray\n",
    "        GBM evaluated at time (T/m,2T/m,...,T) (m_features,) \"\"\"\n",
    "\n",
    "    m = len(W)\n",
    "    S = np.zeros(m)\n",
    "\n",
    "    for i in range(0,m):\n",
    "        S[i] = S_0 * np.exp((r - 0.5*sigma**2) * (i*T/m) + sigma*W[i])\n",
    "    return S\n",
    "\n",
    "def f(S,K,r,T):\n",
    "    \"\"\"This function computes the payoff of a call option at time T\n",
    "    Parameters\n",
    "    ----------\n",
    "    S : np.ndarray\n",
    "        GBM evaluated at time (T/m,2T/m,...,T) (m_features,)\n",
    "    K : float\n",
    "        strike price of the call option\n",
    "    r : float\n",
    "        interest rate of the call option\n",
    "    T : float\n",
    "        time horizon of the call option\n",
    "\n",
    "    Returns\n",
    "    -------\n",
    "    f : float\n",
    "        payoff of the call option at time T\"\"\"\n",
    "\n",
    "    f = np.exp(-r*T) * np.amax( [0,(K - S[-1])] )\n",
    "    return f\n",
    "\n",
    "def I(S_0,K,r,sigma,T):\n",
    "    \"\"\"Closed form solution of f(S,K,r,T) for a geometric brownian motion with equidistant \n",
    "    time steps\n",
    "    Parameters\n",
    "    ----------\n",
    "    S_0 : float\n",
    "        Initial value of the geometric brownian motion\n",
    "    K : float\n",
    "        strike price of the call option\n",
    "    r : float\n",
    "        interest rate of the call option\n",
    "    sigma : float\n",
    "        volatility of the geometric brownian motion\n",
    "    T : float\n",
    "        time horizon of the call option\n",
    "\n",
    "    Returns\n",
    "    -------\n",
    "    I : float\n",
    "        price of the call option\"\"\"\n",
    "\n",
    "    w = (np.log(K/S_0) - (r-0.5*sigma**2)*T) / ( sigma * np.sqrt(T) )\n",
    "    I = np.exp(-r*T) * K * st.norm.cdf(w) - S_0 * st.norm.cdf(w - sigma*np.sqrt(T))\n",
    "    return I"
   ]
  },
  {
   "cell_type": "markdown",
   "metadata": {},
   "source": [
    "Numerical experiment of European put option: Estimation of volatitity"
   ]
  },
  {
   "cell_type": "code",
   "execution_count": 424,
   "metadata": {},
   "outputs": [],
   "source": [
    "T = 0.2 #Maturity time\n",
    "r = 0.05 #Interest rate\n",
    "S_0 = 100 #Initial asset\n",
    "K = 120 #Strike price\n",
    "alpha_0 = 2 / (K + S_0) # Recommmended learning rate"
   ]
  },
  {
   "cell_type": "markdown",
   "metadata": {},
   "source": [
    "Not really logical but we have to output 0 if the stock price at time T is bigger than the strike price.\n",
    "\n",
    "I called it payoff but Im not sure its the right term."
   ]
  },
  {
   "cell_type": "code",
   "execution_count": 425,
   "metadata": {},
   "outputs": [
    {
     "data": {
      "image/png": "[encoded data removed]",
      "text/plain": [
       "<Figure size 640x480 with 1 Axes>"
      ]
     },
     "metadata": {},
     "output_type": "display_data"
    },
    {
     "name": "stdout",
     "output_type": "stream",
     "text": [
      "At this computation, the payoff is 0.0 the mean of the payoff is 30.152109242888663\n"
     ]
    }
   ],
   "source": [
    "W_0 = 0\n",
    "m = 50\n",
    "sigma = 1\n",
    "S = GeometricBM_generator(W_0,m,S_0,sigma,r,T)\n",
    "\n",
    "z = np.full(m,K, dtype=int)\n",
    "\n",
    "plt.plot(S)\n",
    "plt.plot(z, color = 'red', label = 'Strike price')\n",
    "plt.legend()\n",
    "plt.show()\n",
    "\n",
    "print(f\"At this computation, the payoff is {f(S,K,r,T)} the mean of the payoff is {I(S_0,K,r,sigma,T)}\")\n",
    "\n"
   ]
  }
 ],
 "metadata": {
  "kernelspec": {
   "display_name": ".venv",
   "language": "python",
   "name": "python3"
  },
  "language_info": {
   "codemirror_mode": {
    "name": "ipython",
    "version": 3
   },
   "file_extension": ".py",
   "mimetype": "text/x-python",
   "name": "python",
   "nbconvert_exporter": "python",
   "pygments_lexer": "ipython3",
   "version": "3.11.7"
  }
 },
 "nbformat": 4,
 "nbformat_minor": 2
}
