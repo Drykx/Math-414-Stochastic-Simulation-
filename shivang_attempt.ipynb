{
 "cells": [
  {
   "cell_type": "code",
   "execution_count": 21,
   "metadata": {},
   "outputs": [],
   "source": [
    "import numpy as np\n",
    "import matplotlib.pyplot as plt\n",
    "from scipy.stats import norm\n",
    "from scipy.optimize import bisect"
   ]
  },
  {
   "cell_type": "code",
   "execution_count": 26,
   "metadata": {},
   "outputs": [
    {
     "name": "stdout",
     "output_type": "stream",
     "text": [
      "0.508372926009589\n"
     ]
    }
   ],
   "source": [
    "# Warm up: European put option\n",
    "\n",
    "r, T, K, S0 = 0.05, 0.2, 120, 100\n",
    "# Define option price\n",
    "def I(sigma):\n",
    "    wstar = (np.log(K/S0) - (r - sigma**2 / 2) * T) / (sigma * np.sqrt(T))\n",
    "    return np.exp(-r*T) * K * norm.cdf(wstar) - S0 * norm.cdf(wstar - sigma * np.sqrt(T))\n",
    "\n",
    "# Calculate the \"true\" implied volatility\n",
    "I_market = 22\n",
    "sigma_implied = bisect(lambda sigma: I(sigma) - I_market, 0.01, 10)\n",
    "print(sigma_implied)"
   ]
  },
  {
   "cell_type": "code",
   "execution_count": 59,
   "metadata": {},
   "outputs": [
    {
     "data": {
      "text/plain": [
       "0.6253363366757174"
      ]
     },
     "execution_count": 59,
     "metadata": {},
     "output_type": "execute_result"
    }
   ],
   "source": [
    "# Robbins Monroe Algorithm\n",
    "def Jhat(sigma, N):\n",
    "    W_T = norm.rvs(loc=0, scale=T, size=N)\n",
    "    S_T = S0 * np.exp((r - sigma**2 / 2) * T + sigma * W_T)\n",
    "    f = np.exp(-r*T) * (K - S_T)\n",
    "    f[f < 0] = 0\n",
    "    return np.mean(f) - I_market\n",
    "\n",
    "def RM(rho=0.8, N=100):\n",
    "    a0 = 2 / (K + S0)\n",
    "    n = 0\n",
    "    sigma_cur = 1\n",
    "    while True:\n",
    "        alpha_n = a0 / n**rho if n > 0 else a0\n",
    "        sigma_next = sigma_cur - alpha_n * Jhat(sigma_cur, N)\n",
    "        if abs(sigma_next - sigma_cur) < 10**(-9):\n",
    "            break\n",
    "        sigma_cur = sigma_next\n",
    "        n+=1\n",
    "    return sigma_cur\n",
    "\n",
    "RM()"
   ]
  },
  {
   "cell_type": "code",
   "execution_count": null,
   "metadata": {},
   "outputs": [],
   "source": []
  }
 ],
 "metadata": {
  "kernelspec": {
   "display_name": "EPFL",
   "language": "python",
   "name": "python3"
  },
  "language_info": {
   "codemirror_mode": {
    "name": "ipython",
    "version": 3
   },
   "file_extension": ".py",
   "mimetype": "text/x-python",
   "name": "python",
   "nbconvert_exporter": "python",
   "pygments_lexer": "ipython3",
   "version": "3.11.5"
  }
 },
 "nbformat": 4,
 "nbformat_minor": 2
}
